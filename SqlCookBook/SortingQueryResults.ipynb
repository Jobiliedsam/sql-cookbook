{
    "metadata": {
        "kernelspec": {
            "name": "SQL",
            "display_name": "SQL",
            "language": "sql"
        },
        "language_info": {
            "name": "sql",
            "version": ""
        }
    },
    "nbformat_minor": 2,
    "nbformat": 4,
    "cells": [
        {
            "cell_type": "markdown",
            "source": [
                "2.1 Returning Query Results in a Specified Order"
            ],
            "metadata": {
                "azdata_cell_guid": "9abc44fc-b5eb-4486-8923-b7cac462bfab"
            },
            "attachments": {}
        },
        {
            "cell_type": "code",
            "source": [
                "select\r\n",
                "    ename,\r\n",
                "    job,\r\n",
                "    sal\r\n",
                "from \r\n",
                "    dbo.EMP\r\n",
                "where \r\n",
                "    deptno = 10\r\n",
                "order by sal asc -- asc is default value\r\n",
                "\r\n",
                "-- is possible use number of column rather than column name\r\n",
                "select\r\n",
                "    ename, \r\n",
                "    job,\r\n",
                "    sal -- third column\r\n",
                "from \r\n",
                "    dbo.EMP\r\n",
                "where \r\n",
                "    deptno = 10\r\n",
                "order by 3 desc \r\n",
                ""
            ],
            "metadata": {
                "azdata_cell_guid": "1121659a-c174-4f7e-a755-979030189a4b",
                "language": "sql",
                "tags": [
                    "hide_input"
                ]
            },
            "outputs": [],
            "execution_count": null
        },
        {
            "cell_type": "markdown",
            "source": [
                "2.2 Sorting by Multiple Fields"
            ],
            "metadata": {
                "language": "sql",
                "azdata_cell_guid": "fa404642-18bb-4a7e-8c72-1563aacf93d5"
            },
            "attachments": {}
        },
        {
            "cell_type": "code",
            "source": [
                "select \r\n",
                "    empno,\r\n",
                "    deptno,\r\n",
                "    sal,\r\n",
                "    ename,\r\n",
                "    job\r\n",
                "from \r\n",
                "    dbo.EMP\r\n",
                "order by deptno asc, sal desc "
            ],
            "metadata": {
                "language": "sql",
                "azdata_cell_guid": "65d6a3ab-c1ec-4dd9-9f9c-f8b7a92bd097",
                "tags": [
                    "hide_input"
                ]
            },
            "outputs": [],
            "execution_count": null
        },
        {
            "cell_type": "markdown",
            "source": [
                "2.3 Sorting by Substrings"
            ],
            "metadata": {
                "language": "sql",
                "azdata_cell_guid": "5c5fd0c9-d3ed-45fd-ac22-bf3db12b1027"
            },
            "attachments": {}
        },
        {
            "cell_type": "code",
            "source": [
                "select \r\n",
                "    ename, \r\n",
                "    job,\r\n",
                "    substring(job, len(job) -2, 2)  as job_substring\r\n",
                "from \r\n",
                "    dbo.EMP\r\n",
                "order by substring(job, len(job) -2, 2) \r\n",
                ""
            ],
            "metadata": {
                "language": "sql",
                "azdata_cell_guid": "c7ab6206-d1c7-46cc-bd1b-9ada08bfcdf4",
                "tags": [
                    "hide_input"
                ]
            },
            "outputs": [],
            "execution_count": null
        },
        {
            "cell_type": "markdown",
            "source": [
                "2.4 Sorting Mixed Alphanumeric Data"
            ],
            "metadata": {
                "language": "sql",
                "azdata_cell_guid": "a153bdc2-b4ed-4e93-8124-00060591adcd"
            },
            "attachments": {}
        },
        {
            "cell_type": "code",
            "source": [
                "drop view V;"
            ],
            "metadata": {
                "language": "sql",
                "azdata_cell_guid": "dc055ac2-69a2-4fa0-a052-b9660a55f2f4"
            },
            "outputs": [],
            "execution_count": null
        },
        {
            "cell_type": "code",
            "source": [
                "create view V\r\n",
                "as\r\n",
                "select \r\n",
                "    ename + ' ' + convert(varchar, deptno) as [data]\r\n",
                "from \r\n",
                "    dbo.EMP;"
            ],
            "metadata": {
                "language": "sql",
                "azdata_cell_guid": "ef35c3da-db75-4ebe-996b-01f5cee96424",
                "tags": []
            },
            "outputs": [],
            "execution_count": null
        },
        {
            "cell_type": "code",
            "source": [
                "-- sorting view V by DEPTNO\r\n",
                "select \r\n",
                "    [data],\r\n",
                "    translate([data] , '0123456789', '##########') as translated_data,\r\n",
                "    replace(translate([data] , '0123456789', '##########'), '#', '') as first_replaced_translate,\r\n",
                "    replace([data], replace(translate([data] , '0123456789', '##########'), '#', ''), '') as second_replaced_translate \r\n",
                "from \r\n",
                "    dbo.V\r\n",
                "order by replace([data], replace(translate([data] , '0123456789', '##########'), '#', ''), '');\r\n",
                "\r\n",
                "-- sorting view V by ENAME \r\n",
                "select \r\n",
                "    [data]\r\n",
                "from \r\n",
                "    dbo.V\r\n",
                "order by replace([data], translate([data] , '0123456789', '##########'), '')\r\n",
                ""
            ],
            "metadata": {
                "language": "sql",
                "azdata_cell_guid": "981be575-9592-4c91-a0b6-c7950354b452"
            },
            "outputs": [],
            "execution_count": null
        },
        {
            "cell_type": "markdown",
            "source": [
                "2.5 Dealing with Nulls When Sorting"
            ],
            "metadata": {
                "language": "sql",
                "azdata_cell_guid": "46b2012f-c9ef-4a25-86e9-b261d57bed65"
            },
            "attachments": {}
        },
        {
            "cell_type": "code",
            "source": [
                "select \r\n",
                "    ename,\r\n",
                "    sal,\r\n",
                "    comm\r\n",
                "from \r\n",
                "    dbo.EMP\r\n",
                "order by comm desc\r\n",
                "\r\n",
                "-- sort non-null values in ascending and null values last\r\n",
                "select \r\n",
                "    ename,\r\n",
                "    sal,\r\n",
                "    comm\r\n",
                "from \r\n",
                "(\r\n",
                "    select \r\n",
                "        ename,\r\n",
                "        sal,\r\n",
                "        comm,\r\n",
                "        case \r\n",
                "            when comm is null then 0\r\n",
                "            else 1\r\n",
                "        end as is_null\r\n",
                "    from \r\n",
                "        dbo.EMP\r\n",
                ") as emp_with_is_null\r\n",
                "order by is_null desc, comm asc\r\n",
                "\r\n",
                "-- sort non-null values in descending and null values last\r\n",
                "select \r\n",
                "    ename,\r\n",
                "    sal,\r\n",
                "    comm\r\n",
                "from \r\n",
                "(\r\n",
                "    select \r\n",
                "        ename,\r\n",
                "        sal,\r\n",
                "        comm,\r\n",
                "        case \r\n",
                "            when comm is null then 0\r\n",
                "            else 1\r\n",
                "        end as is_null\r\n",
                "    from \r\n",
                "        dbo.EMP\r\n",
                ") as emp_with_is_null\r\n",
                "order by is_null desc, comm desc\r\n",
                "\r\n",
                "-- sort non-null values in ascending and null values first\r\n",
                "select \r\n",
                "    ename,\r\n",
                "    sal,\r\n",
                "    comm\r\n",
                "from \r\n",
                "(\r\n",
                "    select \r\n",
                "        ename,\r\n",
                "        sal,\r\n",
                "        comm,\r\n",
                "        case \r\n",
                "            when comm is null then 0\r\n",
                "            else 1\r\n",
                "        end as is_null\r\n",
                "    from \r\n",
                "        dbo.EMP\r\n",
                ") as emp_with_is_null\r\n",
                "order by is_null asc, comm asc\r\n",
                "\r\n",
                "-- sort non-null values in descending and null values first\r\n",
                "select \r\n",
                "    ename,\r\n",
                "    sal,\r\n",
                "    comm\r\n",
                "from \r\n",
                "(\r\n",
                "    select \r\n",
                "        ename,\r\n",
                "        sal,\r\n",
                "        comm,\r\n",
                "        case \r\n",
                "            when comm is null then 0\r\n",
                "            else 1\r\n",
                "        end as is_null\r\n",
                "    from \r\n",
                "        dbo.EMP\r\n",
                ") as emp_with_is_null\r\n",
                "order by is_null asc, comm desc\r\n",
                ""
            ],
            "metadata": {
                "language": "sql",
                "azdata_cell_guid": "910c7926-6512-4ae9-adae-002afe37cba6",
                "tags": [
                    "hide_input"
                ]
            },
            "outputs": [],
            "execution_count": null
        },
        {
            "cell_type": "markdown",
            "source": [
                "2.6 Sorting on a Data-Dependent Key"
            ],
            "metadata": {
                "language": "sql",
                "azdata_cell_guid": "c7b1b631-2612-481e-b7d1-91312555954e"
            },
            "attachments": {}
        },
        {
            "cell_type": "code",
            "source": [
                "select\r\n",
                "    ename,\r\n",
                "    sal,\r\n",
                "    job,\r\n",
                "    comm\r\n",
                "from\r\n",
                "    dbo.EMP\r\n",
                "order by \r\n",
                "    case \r\n",
                "        when job = 'SALESMAN' then comm\r\n",
                "        else sal\r\n",
                "    end\r\n",
                "\r\n",
                "-- alternative solution \r\n",
                "select \r\n",
                "    ename,\r\n",
                "    sal,\r\n",
                "    job,\r\n",
                "    comm,\r\n",
                "    case \r\n",
                "        when job = 'SALESMAN' then comm\r\n",
                "        else sal\r\n",
                "    end as ordered\r\n",
                "from \r\n",
                "    dbo.EMP\r\n",
                "order by 5"
            ],
            "metadata": {
                "language": "sql",
                "azdata_cell_guid": "50f375cf-0bc9-4801-8eda-0c46834e081e"
            },
            "outputs": [],
            "execution_count": null
        }
    ]
}