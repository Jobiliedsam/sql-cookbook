{
    "metadata": {
        "kernelspec": {
            "name": "SQL",
            "display_name": "SQL",
            "language": "sql"
        },
        "language_info": {
            "name": "sql",
            "version": ""
        }
    },
    "nbformat_minor": 2,
    "nbformat": 4,
    "cells": [
        {
            "cell_type": "markdown",
            "source": [
                "5.1 Listing Tables in a Schema"
            ],
            "metadata": {
                "azdata_cell_guid": "9b73b989-a41c-4ccb-8abf-914b2f496f4a"
            },
            "attachments": {}
        },
        {
            "cell_type": "code",
            "source": [
                "select \r\n",
                "    t.table_name\r\n",
                "from \r\n",
                "    information_schema.tables as t\r\n",
                "where \r\n",
                "    t.table_schema = 'dbo'"
            ],
            "metadata": {
                "azdata_cell_guid": "06b05419-23b4-4ec3-87a1-4cc57f1c5273",
                "language": "sql"
            },
            "outputs": [],
            "execution_count": null
        },
        {
            "cell_type": "markdown",
            "source": [
                "5.2 Listing a Table's Columns"
            ],
            "metadata": {
                "language": "sql",
                "azdata_cell_guid": "520a9857-d450-4ece-adcd-721bfeb31327"
            },
            "attachments": {}
        },
        {
            "cell_type": "code",
            "source": [
                "select \r\n",
                "    c.column_name,\r\n",
                "    c.data_type,\r\n",
                "    c.ordinal_position\r\n",
                "from \r\n",
                "    information_schema.columns as c\r\n",
                "where \r\n",
                "    c.table_schema = 'dbo'\r\n",
                "    and c.table_name = 'EMP'"
            ],
            "metadata": {
                "language": "sql",
                "azdata_cell_guid": "f0dee679-e1c2-4175-b0fe-5e318d13b5b4"
            },
            "outputs": [],
            "execution_count": null
        },
        {
            "cell_type": "markdown",
            "source": [
                "5.3 Listing Indexed Columns for a Table"
            ],
            "metadata": {
                "language": "sql",
                "azdata_cell_guid": "04ee7a4e-59c1-4d57-9178-d101a8419052"
            },
            "attachments": {}
        },
        {
            "cell_type": "code",
            "source": [
                "select \r\n",
                "    a.name as table_name,\r\n",
                "    b.name as index_name,\r\n",
                "    d.name as column_name,\r\n",
                "    c.index_column_id\r\n",
                "from \r\n",
                "    sys.tables a,\r\n",
                "    sys.indexes b,\r\n",
                "    sys.index_columns c,\r\n",
                "    sys.columns d\r\n",
                "where \r\n",
                "    a.object_id = b.object_id\r\n",
                "    and b.object_id = c.object_id\r\n",
                "    and b.index_id = c.index_id\r\n",
                "    and c.object_id = d.object_id\r\n",
                "    and c.column_id = d.column_id\r\n",
                "    and a.name = 'EMP'"
            ],
            "metadata": {
                "language": "sql",
                "azdata_cell_guid": "c4141761-a806-46cc-8f2f-b322cdf981d6"
            },
            "outputs": [
                {
                    "output_type": "display_data",
                    "data": {
                        "text/html": "(0 rows affected)"
                    },
                    "metadata": {}
                },
                {
                    "output_type": "display_data",
                    "data": {
                        "text/html": "Total execution time: 00:00:00.054"
                    },
                    "metadata": {}
                },
                {
                    "output_type": "execute_result",
                    "metadata": {},
                    "execution_count": 4,
                    "data": {
                        "application/vnd.dataresource+json": {
                            "schema": {
                                "fields": [
                                    {
                                        "name": "table_name"
                                    },
                                    {
                                        "name": "index_name"
                                    },
                                    {
                                        "name": "column_name"
                                    },
                                    {
                                        "name": "index_column_id"
                                    }
                                ]
                            },
                            "data": []
                        },
                        "text/html": [
                            "<table>",
                            "<tr><th>table_name</th><th>index_name</th><th>column_name</th><th>index_column_id</th></tr>",
                            "</table>"
                        ]
                    }
                }
            ],
            "execution_count": 4
        },
        {
            "cell_type": "markdown",
            "source": [
                "5.4 Listing Constraints on a Table"
            ],
            "metadata": {
                "language": "sql",
                "azdata_cell_guid": "f7b9bcba-b251-490c-b04a-2993eb946610"
            },
            "attachments": {}
        },
        {
            "cell_type": "code",
            "source": [
                "select \r\n",
                "    a.table_name,\r\n",
                "    a.constraint_name,\r\n",
                "    b.column_name,\r\n",
                "    a.constraint_type\r\n",
                "from \r\n",
                "    information_schema.table_constraints a,\r\n",
                "    information_schema.key_column_usage b\r\n",
                "where \r\n",
                "    a.table_name = 'EMP'\r\n",
                "    and a.table_schema = 'dbo'\r\n",
                "    and a.table_name = b.table_name\r\n",
                "    and a.table_schema = b.table_schema\r\n",
                "    and a.constraint_name = b.constraint_name\r\n",
                ""
            ],
            "metadata": {
                "language": "sql",
                "azdata_cell_guid": "cd40670b-b7b0-43cc-841f-528ec9bcf86c"
            },
            "outputs": [
                {
                    "output_type": "display_data",
                    "data": {
                        "text/html": "(0 rows affected)"
                    },
                    "metadata": {}
                },
                {
                    "output_type": "display_data",
                    "data": {
                        "text/html": "Total execution time: 00:00:00.098"
                    },
                    "metadata": {}
                },
                {
                    "output_type": "execute_result",
                    "metadata": {},
                    "execution_count": 5,
                    "data": {
                        "application/vnd.dataresource+json": {
                            "schema": {
                                "fields": [
                                    {
                                        "name": "table_name"
                                    },
                                    {
                                        "name": "constraint_name"
                                    },
                                    {
                                        "name": "column_name"
                                    },
                                    {
                                        "name": "constraint_type"
                                    }
                                ]
                            },
                            "data": []
                        },
                        "text/html": [
                            "<table>",
                            "<tr><th>table_name</th><th>constraint_name</th><th>column_name</th><th>constraint_type</th></tr>",
                            "</table>"
                        ]
                    }
                }
            ],
            "execution_count": 5
        },
        {
            "cell_type": "markdown",
            "source": [
                "5.6 Using SQL to Generate SQL"
            ],
            "metadata": {
                "language": "sql",
                "azdata_cell_guid": "a2f13009-0ea5-49ed-af8f-be381346498d"
            },
            "attachments": {}
        },
        {
            "cell_type": "code",
            "source": [
                "select 'select count(*) from ' + table_name +';' cnts\r\n",
                "from information_schema.tables;"
            ],
            "metadata": {
                "language": "sql",
                "azdata_cell_guid": "95f37e74-dffb-4e33-9c31-8e128b68588a"
            },
            "outputs": [
                {
                    "output_type": "display_data",
                    "data": {
                        "text/html": "(5 rows affected)"
                    },
                    "metadata": {}
                },
                {
                    "output_type": "display_data",
                    "data": {
                        "text/html": "Total execution time: 00:00:00.020"
                    },
                    "metadata": {}
                },
                {
                    "output_type": "execute_result",
                    "metadata": {},
                    "execution_count": 6,
                    "data": {
                        "application/vnd.dataresource+json": {
                            "schema": {
                                "fields": [
                                    {
                                        "name": "cnts"
                                    }
                                ]
                            },
                            "data": [
                                {
                                    "cnts": "select count(*) from EMP;"
                                },
                                {
                                    "cnts": "select count(*) from DEPT;"
                                },
                                {
                                    "cnts": "select count(*) from T1;"
                                },
                                {
                                    "cnts": "select count(*) from T10;"
                                },
                                {
                                    "cnts": "select count(*) from T100;"
                                }
                            ]
                        },
                        "text/html": [
                            "<table>",
                            "<tr><th>cnts</th></tr>",
                            "<tr><td>select count(*) from EMP;</td></tr>",
                            "<tr><td>select count(*) from DEPT;</td></tr>",
                            "<tr><td>select count(*) from T1;</td></tr>",
                            "<tr><td>select count(*) from T10;</td></tr>",
                            "<tr><td>select count(*) from T100;</td></tr>",
                            "</table>"
                        ]
                    }
                }
            ],
            "execution_count": 6
        }
    ]
}