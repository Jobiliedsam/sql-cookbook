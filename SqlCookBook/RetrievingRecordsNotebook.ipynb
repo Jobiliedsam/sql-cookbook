{
    "metadata": {
        "kernelspec": {
            "name": "SQL",
            "display_name": "SQL",
            "language": "sql"
        },
        "language_info": {
            "name": "sql",
            "version": ""
        }
    },
    "nbformat_minor": 2,
    "nbformat": 4,
    "cells": [
        {
            "cell_type": "markdown",
            "source": [
                "<span style=\"color: var(--vscode-foreground);\">1.1 Retrieving All Rows and Columns from a Table</span>"
            ],
            "metadata": {
                "language": "sql",
                "azdata_cell_guid": "b1c1618c-5121-48cf-bc46-1dda4dce3966"
            },
            "attachments": {}
        },
        {
            "cell_type": "code",
            "source": [
                "select * from dbo.emp"
            ],
            "metadata": {
                "azdata_cell_guid": "00fd3de3-6767-40a2-a64c-82295aeed11c",
                "language": "sql",
                "tags": [
                    "hide_input"
                ]
            },
            "outputs": [],
            "execution_count": null
        },
        {
            "cell_type": "markdown",
            "source": [
                "1.2 Retrieving a Subset of Rows from a Table"
            ],
            "metadata": {
                "language": "sql",
                "azdata_cell_guid": "0cecb138-905d-4b06-b1ee-f5fd15f9eacd"
            },
            "attachments": {}
        },
        {
            "cell_type": "code",
            "source": [
                "select * from dbo.emp where deptno = 10"
            ],
            "metadata": {
                "azdata_cell_guid": "520eadf7-467f-46db-9daf-a26e76b5eb58",
                "language": "sql",
                "tags": [
                    "hide_input"
                ]
            },
            "outputs": [],
            "execution_count": null
        },
        {
            "cell_type": "markdown",
            "source": [
                "1.3 Finding Rows That Satisfy Multiple Conditions"
            ],
            "metadata": {
                "language": "sql",
                "azdata_cell_guid": "5782634f-14ec-4b6e-b565-41a02f8f3df3"
            },
            "attachments": {}
        },
        {
            "cell_type": "code",
            "source": [
                "select \r\n",
                "    *\r\n",
                "from \r\n",
                "    dbo.EMP\r\n",
                "where \r\n",
                "    DEPTNO = 10\r\n",
                "    or COMM is not NULL\r\n",
                "    or SAL <= 2000 and DEPTNO = 20\r\n",
                "\r\n",
                "-- The presence of paretheses causes condition within them to be evaluated together\r\n",
                "\r\n",
                "select \r\n",
                "    *\r\n",
                "from \r\n",
                "    dbo.EMP\r\n",
                "where \r\n",
                "    (\r\n",
                "        DEPTNO = 10\r\n",
                "        or COMM is not NULL\r\n",
                "        or SAL <= 2000\r\n",
                "    ) \r\n",
                "    and DEPTNO = 20"
            ],
            "metadata": {
                "language": "sql",
                "azdata_cell_guid": "7e0f5e83-cb71-4603-a39d-21681dc1a7a2",
                "tags": [
                    "hide_input"
                ]
            },
            "outputs": [],
            "execution_count": null
        },
        {
            "cell_type": "markdown",
            "source": [
                "1.4 Retrieving a Subset of Columns from a Table"
            ],
            "metadata": {
                "language": "sql",
                "azdata_cell_guid": "9fa3c355-0f32-4bd3-bbbd-a61ace63b70e"
            },
            "attachments": {}
        },
        {
            "cell_type": "code",
            "source": [
                "select\r\n",
                "    ENAME,\r\n",
                "    DEPTNO,\r\n",
                "    SAL\r\n",
                "from \r\n",
                "    dbo.EMP"
            ],
            "metadata": {
                "azdata_cell_guid": "e917d6be-860e-4bf2-bcdf-26ea349b4828",
                "language": "sql",
                "tags": [
                    "hide_input"
                ]
            },
            "outputs": [],
            "execution_count": null
        },
        {
            "cell_type": "markdown",
            "source": [
                "1.5 Providing Meaningful Names for Columns"
            ],
            "metadata": {
                "language": "sql",
                "azdata_cell_guid": "b511059e-bde3-405f-b629-45502588bf00"
            },
            "attachments": {}
        },
        {
            "cell_type": "code",
            "source": [
                "select\r\n",
                "    sal as salary,\r\n",
                "    comm as commission\r\n",
                "from \r\n",
                "    dbo.EMP"
            ],
            "metadata": {
                "language": "sql",
                "azdata_cell_guid": "f74ecfd0-d865-43c7-bff3-3dd3613575f9",
                "tags": [
                    "hide_input"
                ]
            },
            "outputs": [],
            "execution_count": null
        },
        {
            "cell_type": "markdown",
            "source": [
                "1.6 Referencing as Aliased Column in the WHERE Clause"
            ],
            "metadata": {
                "language": "sql",
                "azdata_cell_guid": "e5c41718-856e-4fbe-bc86-cb7a8b33892d"
            },
            "attachments": {}
        },
        {
            "cell_type": "code",
            "source": [
                "select \r\n",
                "    *\r\n",
                "from \r\n",
                "(\r\n",
                "    select \r\n",
                "        sal as salary,\r\n",
                "        comm as commission\r\n",
                "    from \r\n",
                "        dbo.EMP\r\n",
                ") as inline_view\r\n",
                "where \r\n",
                "    salary < 5000 "
            ],
            "metadata": {
                "language": "sql",
                "azdata_cell_guid": "f7cefee2-e94b-4473-9788-e1da914bee7c",
                "tags": []
            },
            "outputs": [],
            "execution_count": null
        },
        {
            "cell_type": "markdown",
            "source": [
                "1.7 Concatenating Column Values"
            ],
            "metadata": {
                "language": "sql",
                "azdata_cell_guid": "e86a6cf7-0c42-476a-ab55-4b09646b9d07"
            },
            "attachments": {}
        },
        {
            "cell_type": "code",
            "source": [
                "select \r\n",
                "    ENAME + ' WORKS AS A ' + JOB as msg\r\n",
                "from \r\n",
                "    dbo.EMP"
            ],
            "metadata": {
                "language": "sql",
                "azdata_cell_guid": "fbcd8b6f-bc14-4982-ae30-996c21579f8e"
            },
            "outputs": [],
            "execution_count": null
        },
        {
            "cell_type": "markdown",
            "source": [
                "1.8 Using Conditional Logic in a SELECT  Statement"
            ],
            "metadata": {
                "language": "sql",
                "azdata_cell_guid": "88a89e4f-977f-4f63-987a-4be4801c6750"
            },
            "attachments": {}
        },
        {
            "cell_type": "code",
            "source": [
                "select \r\n",
                "    ENAME,\r\n",
                "    SAL,\r\n",
                "    case \r\n",
                "        when SAL <= 2000 then 'UNDERPAID'\r\n",
                "        when SAL >= 4000 then 'OVERPAID'\r\n",
                "        else 'OK'\r\n",
                "    end as STATUS\r\n",
                "from \r\n",
                "    dbo.EMP"
            ],
            "metadata": {
                "language": "sql",
                "azdata_cell_guid": "c84e3f5d-851e-4e62-a965-d164b1de9bdc"
            },
            "outputs": [],
            "execution_count": null
        },
        {
            "cell_type": "markdown",
            "source": [
                "1.9 Limiting the Number of Rows Returned"
            ],
            "metadata": {
                "language": "sql",
                "azdata_cell_guid": "5b3156ac-db78-4b41-bc26-5964b08c9a11"
            },
            "attachments": {}
        },
        {
            "cell_type": "code",
            "source": [
                "select top 5 \r\n",
                "    *\r\n",
                "from \r\n",
                "    dbo.EMP"
            ],
            "metadata": {
                "language": "sql",
                "azdata_cell_guid": "8ff35d3e-b4ab-4738-9889-878f09cb786f"
            },
            "outputs": [],
            "execution_count": null
        },
        {
            "cell_type": "markdown",
            "source": [
                "1.10 Returning n Random Records from a Table"
            ],
            "metadata": {
                "language": "sql",
                "azdata_cell_guid": "2350da47-7e48-43d1-bf82-ae650b8de1b8"
            },
            "attachments": {}
        },
        {
            "cell_type": "code",
            "source": [
                "select top 5\r\n",
                "    ENAME,\r\n",
                "    JOB\r\n",
                "from \r\n",
                "    dbo.EMP\r\n",
                "order by newid()"
            ],
            "metadata": {
                "language": "sql",
                "azdata_cell_guid": "942bbfb2-969a-4bcc-b3ed-653bc4d00600"
            },
            "outputs": [],
            "execution_count": null
        },
        {
            "cell_type": "markdown",
            "source": [
                "1.11 Finding Null Values"
            ],
            "metadata": {
                "language": "sql",
                "azdata_cell_guid": "77f154e8-99de-44df-8560-b6ad702c0689"
            },
            "attachments": {}
        },
        {
            "cell_type": "code",
            "source": [
                "select \r\n",
                "    *\r\n",
                "from \r\n",
                "    dbo.EMP\r\n",
                "where COMM is null"
            ],
            "metadata": {
                "language": "sql",
                "azdata_cell_guid": "4c24b757-f522-4a84-8d66-e31930d3e510"
            },
            "outputs": [],
            "execution_count": null
        },
        {
            "cell_type": "markdown",
            "source": [
                "1.12 Transforming Nulls into Real Values"
            ],
            "metadata": {
                "language": "sql",
                "azdata_cell_guid": "b1260305-d97d-425e-a11b-77b5b349ccdc"
            },
            "attachments": {}
        },
        {
            "cell_type": "code",
            "source": [
                "select \r\n",
                "    coalesce(comm, 0)\r\n",
                "from \r\n",
                "    dbo.EMP\r\n",
                "\r\n",
                "-- alternative form \r\n",
                "select \r\n",
                "    case\r\n",
                "        when comm is not null then comm\r\n",
                "        else 0\r\n",
                "    end\r\n",
                "from \r\n",
                "    dbo.EMP"
            ],
            "metadata": {
                "language": "sql",
                "azdata_cell_guid": "0c729f5f-6fa3-4c95-824e-92c15dd4276f"
            },
            "outputs": [],
            "execution_count": null
        },
        {
            "cell_type": "markdown",
            "source": [
                "1.13 Searching for Patterns"
            ],
            "metadata": {
                "language": "sql",
                "azdata_cell_guid": "4babafcc-dc2a-4baf-9a3b-2bb5a87cd9b7"
            },
            "attachments": {}
        },
        {
            "cell_type": "code",
            "source": [
                "select\r\n",
                "    ename,\r\n",
                "    job\r\n",
                "from \r\n",
                "    dbo.EMP\r\n",
                "where \r\n",
                "    deptno in (10,20)\r\n",
                "    and (ename like '%I%' or job like '%ER')"
            ],
            "metadata": {
                "language": "sql",
                "azdata_cell_guid": "7f72ca07-2cda-45fc-8171-8007afb8742d"
            },
            "outputs": [],
            "execution_count": null
        }
    ]
}