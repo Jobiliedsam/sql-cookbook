{
    "metadata": {
        "kernelspec": {
            "name": "SQL",
            "display_name": "SQL",
            "language": "sql"
        },
        "language_info": {
            "name": "sql",
            "version": ""
        }
    },
    "nbformat_minor": 2,
    "nbformat": 4,
    "cells": [
        {
            "cell_type": "markdown",
            "source": [
                "3.1 Stacking One Rowset atop Another"
            ],
            "metadata": {
                "azdata_cell_guid": "76fe4b34-4258-4091-b930-68d32fb1e633"
            },
            "attachments": {}
        },
        {
            "cell_type": "code",
            "source": [
                "select \r\n",
                "    e.ENAME as ENAME_AND_DNAME,\r\n",
                "    e.DEPTNO\r\n",
                "from \r\n",
                "    dbo.EMP as e\r\n",
                "where \r\n",
                "    e.DEPTNO = 10\r\n",
                "union all \r\n",
                "select \r\n",
                "    '----------',\r\n",
                "    null\r\n",
                "union all \r\n",
                "select \r\n",
                "    d.DNAME,\r\n",
                "    d.DEPTNO\r\n",
                "from \r\n",
                "    dbo.DEPT as d\r\n",
                "\r\n",
                "-- Union all will include diplicates if they exist. If yo want to filter out duplicates, use the UNION\r\n",
                "select \r\n",
                "    e.DEPTNO\r\n",
                "from \r\n",
                "    dbo.EMP as e\r\n",
                "union\r\n",
                "select \r\n",
                "    d.DEPTNO\r\n",
                "from \r\n",
                "    dbo.DEPT as d\r\n",
                ""
            ],
            "metadata": {
                "azdata_cell_guid": "a947ab20-8578-4926-bae9-0d06f4cc15c1",
                "language": "sql",
                "tags": []
            },
            "outputs": [],
            "execution_count": null
        },
        {
            "cell_type": "markdown",
            "source": [
                "3.2 Combining Related Rows"
            ],
            "metadata": {
                "language": "sql",
                "azdata_cell_guid": "47f5ce99-5988-47da-a6f4-9f695839a8ed"
            },
            "attachments": {}
        },
        {
            "cell_type": "code",
            "source": [
                "select \r\n",
                "    e.ENAME,\r\n",
                "    d.LOC\r\n",
                "from \r\n",
                "    dbo.EMP as e,\r\n",
                "    dbo.DEPT as d\r\n",
                "where \r\n",
                "    e.DEPTNO = 10\r\n",
                "    and e.DEPTNO = d.DEPTNO\r\n",
                "\r\n",
                "-- alternative version \r\n",
                "select \r\n",
                "    e.ENAME,\r\n",
                "    d.LOC\r\n",
                "from \r\n",
                "    dbo.EMP as e\r\n",
                "inner join\r\n",
                "    dbo.DEPT as d on e.DEPTNO = d.DEPTNO\r\n",
                "where \r\n",
                "    e.DEPTNO = 10\r\n",
                "    \r\n",
                "\r\n",
                ""
            ],
            "metadata": {
                "language": "sql",
                "azdata_cell_guid": "1e922e7e-9152-40e6-92b1-bca62ab146e6",
                "tags": []
            },
            "outputs": [],
            "execution_count": null
        },
        {
            "cell_type": "markdown",
            "source": [
                "3.3 Finding Rows in Common Between Two Tables"
            ],
            "metadata": {
                "language": "sql",
                "azdata_cell_guid": "d51711ab-2c57-4d3e-8d5f-ffc439891c13"
            },
            "attachments": {}
        },
        {
            "cell_type": "code",
            "source": [
                "drop view V;"
            ],
            "metadata": {
                "language": "sql",
                "azdata_cell_guid": "0cb820be-04fb-4b15-b598-4df4cb3b115e",
                "tags": []
            },
            "outputs": [],
            "execution_count": null
        },
        {
            "cell_type": "code",
            "source": [
                "create view V \r\n",
                "as \r\n",
                "select \r\n",
                "    e.ENAME,\r\n",
                "    e.JOB,\r\n",
                "    e.SAL\r\n",
                "from \r\n",
                "    dbo.EMP as e\r\n",
                "where \r\n",
                "    e.JOB = 'CLERK'"
            ],
            "metadata": {
                "language": "sql",
                "azdata_cell_guid": "0936dba4-cff7-44a4-aa5e-5928c0f9bd73",
                "tags": []
            },
            "outputs": [],
            "execution_count": null
        },
        {
            "cell_type": "code",
            "source": [
                "select * from V\r\n",
                "\r\n",
                "select\r\n",
                "    e.EMPNO,\r\n",
                "    e.ENAME,\r\n",
                "    e.JOB,\r\n",
                "    e.SAL,\r\n",
                "    e.DEPTNO\r\n",
                "from\r\n",
                "    dbo.V as v,\r\n",
                "    dbo.EMP as e\r\n",
                "where \r\n",
                "    v.ENAME = e.ENAME\r\n",
                "    and v.JOB = e.JOB\r\n",
                "    and v.SAL = e.SAL\r\n",
                "\r\n",
                "-- alternative version\r\n",
                "select\r\n",
                "    e.EMPNO,\r\n",
                "    e.ENAME,\r\n",
                "    e.JOB,\r\n",
                "    e.SAL,\r\n",
                "    e.DEPTNO\r\n",
                "from\r\n",
                "    dbo.V as v\r\n",
                "inner join \r\n",
                "    dbo.EMP as e on \r\n",
                "    (\r\n",
                "        v.ENAME = e.ENAME\r\n",
                "        and v.JOB = e.JOB\r\n",
                "        and v.SAL = e.SAL\r\n",
                "    )"
            ],
            "metadata": {
                "language": "sql",
                "azdata_cell_guid": "4b99ba7b-e221-458c-8b8f-a9ecb69e81d2",
                "tags": []
            },
            "outputs": [],
            "execution_count": null
        },
        {
            "cell_type": "markdown",
            "source": [
                "3.4 Retrieving Values from One Table That Do Net Exist in Another"
            ],
            "metadata": {
                "language": "sql",
                "azdata_cell_guid": "27551978-f7a7-4393-bacd-eb110adab5a4"
            },
            "attachments": {}
        },
        {
            "cell_type": "code",
            "source": [
                "select \r\n",
                "    d.DEPTNO\r\n",
                "from \r\n",
                "    dbo.DEPT as d \r\n",
                "except \r\n",
                "select \r\n",
                "    e.DEPTNO \r\n",
                "from \r\n",
                "    dbo.EMP as e "
            ],
            "metadata": {
                "language": "sql",
                "azdata_cell_guid": "84af0d27-de1a-4f6b-bcef-4cad66f4ec5e",
                "tags": []
            },
            "outputs": [],
            "execution_count": null
        },
        {
            "cell_type": "markdown",
            "source": [
                "3.5 Retrieving Rows from One Table That Do Not Correspond to Rows in Another"
            ],
            "metadata": {
                "language": "sql",
                "azdata_cell_guid": "9e2b469f-12da-47c2-8ae5-2efd064c75d5"
            },
            "attachments": {}
        },
        {
            "cell_type": "code",
            "source": [
                "select \r\n",
                "    d.DEPTNO,\r\n",
                "    d.DNAME,\r\n",
                "    d.LOC\r\n",
                "    -- ,e.*\r\n",
                "from \r\n",
                "    dbo.DEPT as d \r\n",
                "left outer join \r\n",
                "    dbo.EMP as e on d.DEPTNO = e.DEPTNO\r\n",
                "where \r\n",
                "    e.DEPTNO is null\r\n",
                ""
            ],
            "metadata": {
                "language": "sql",
                "azdata_cell_guid": "942af686-5af8-484e-b85e-affe5d585590",
                "tags": []
            },
            "outputs": [],
            "execution_count": null
        },
        {
            "cell_type": "markdown",
            "source": [
                "3.6 Adding Joins to a Query Without Interfering with Other Joins"
            ],
            "metadata": {
                "language": "sql",
                "azdata_cell_guid": "44984d76-6d1c-4115-87a5-91e235c0a0d3"
            },
            "attachments": {}
        },
        {
            "cell_type": "code",
            "source": [
                "drop table dbo.EMP_BONUS;\r\n",
                "\r\n",
                "create table EMP_BONUS\r\n",
                "(\r\n",
                "    EMPNO int not null,\r\n",
                "    RECEIVED datetime,\r\n",
                "    [TYPE] int \r\n",
                ");\r\n",
                "\r\n",
                "insert into dbo.EMP_BONUS values\r\n",
                "    (7369, '14-MAR-2005', 1),\r\n",
                "    (7900, '14-MAR-2005', 2),\r\n",
                "    (7788, '14-MAR-2005', 3);"
            ],
            "metadata": {
                "language": "sql",
                "azdata_cell_guid": "59635f86-8994-47f4-a466-64ebbc74858b",
                "tags": []
            },
            "outputs": [],
            "execution_count": null
        },
        {
            "cell_type": "code",
            "source": [
                "select \r\n",
                "    e.ENAME,\r\n",
                "    d.LOC,\r\n",
                "    eb.RECEIVED\r\n",
                "from \r\n",
                "    dbo.EMP as e\r\n",
                "inner join \r\n",
                "    dbo.DEPT as d on e.DEPTNO = d.DEPTNO\r\n",
                "left outer join \r\n",
                "    dbo.EMP_BONUS as eb on e.EMPNO = eb.EMPNO\r\n",
                "order by \r\n",
                "    d.LOC asc \r\n",
                "\r\n",
                "-- alternative solution use scalar subquery\r\n",
                "select \r\n",
                "    e.ENAME,\r\n",
                "    d.LOC,\r\n",
                "    (\r\n",
                "        select\r\n",
                "            eb.RECEIVED\r\n",
                "        from \r\n",
                "            dbo.EMP_BONUS as eb\r\n",
                "        where \r\n",
                "            eb.EMPNO = e.EMPNO\r\n",
                "    ) as received\r\n",
                "from \r\n",
                "    dbo.EMP as e,\r\n",
                "    dbo.DEPT as d \r\n",
                "where \r\n",
                "    e.DEPTNO = d.DEPTNO\r\n",
                "order by \r\n",
                "    d.LOC asc"
            ],
            "metadata": {
                "language": "sql",
                "azdata_cell_guid": "9d896480-63be-40ed-bb6a-05281dcc0429",
                "tags": []
            },
            "outputs": [],
            "execution_count": null
        },
        {
            "cell_type": "markdown",
            "source": [
                "3.7 Determining Whether Two Tables Have the Same Data (Cardinality and Values)"
            ],
            "metadata": {
                "language": "sql",
                "azdata_cell_guid": "f331d818-343e-4975-bb36-42608a1ad5a7"
            },
            "attachments": {}
        },
        {
            "cell_type": "code",
            "source": [
                "drop view V;"
            ],
            "metadata": {
                "language": "sql",
                "azdata_cell_guid": "d13b37b5-cd7d-4271-879e-cc0ee2ca988d",
                "tags": []
            },
            "outputs": [],
            "execution_count": null
        },
        {
            "cell_type": "code",
            "source": [
                "create view V \r\n",
                "as \r\n",
                "select \r\n",
                "    *\r\n",
                "from \r\n",
                "    dbo.EMP as e\r\n",
                "where \r\n",
                "    e.DEPTNO != 10\r\n",
                "union all\r\n",
                "select \r\n",
                "    *\r\n",
                "from \r\n",
                "    dbo.EMP as e \r\n",
                "where \r\n",
                "    e.ENAME = 'WARD';"
            ],
            "metadata": {
                "language": "sql",
                "azdata_cell_guid": "48fc257b-06b9-4baa-b860-cdc1dbb6fa27",
                "tags": []
            },
            "outputs": [],
            "execution_count": null
        },
        {
            "cell_type": "code",
            "source": [
                "select \r\n",
                "    *\r\n",
                "from \r\n",
                "(\r\n",
                "    select \r\n",
                "        e.EMPNO,\r\n",
                "        e.ENAME,\r\n",
                "        e.JOB,\r\n",
                "        e.MGR,\r\n",
                "        e.HIREDATE,\r\n",
                "        e.SAL,\r\n",
                "        e.COMM,\r\n",
                "        e.DEPTNO,\r\n",
                "        count(*) as count \r\n",
                "    from \r\n",
                "        dbo.EMP as e \r\n",
                "    group by \r\n",
                "        e.EMPNO,\r\n",
                "        e.ENAME,\r\n",
                "        e.JOB,\r\n",
                "        e.MGR,\r\n",
                "        e.HIREDATE,\r\n",
                "        e.SAL,\r\n",
                "        e.COMM,\r\n",
                "        e.DEPTNO\r\n",
                ") as e\r\n",
                "where not exists -- compare view e with view v\r\n",
                "(\r\n",
                "    select \r\n",
                "        null\r\n",
                "    from\r\n",
                "    (\r\n",
                "        select \r\n",
                "            v.EMPNO,\r\n",
                "            v.ENAME,\r\n",
                "            v.JOB,\r\n",
                "            v.MGR,\r\n",
                "            v.HIREDATE,\r\n",
                "            v.SAL,\r\n",
                "            v.COMM,\r\n",
                "            v.DEPTNO,\r\n",
                "            count(*) as count \r\n",
                "        from \r\n",
                "            dbo.V as v \r\n",
                "        group by \r\n",
                "            v.EMPNO,\r\n",
                "            v.ENAME,\r\n",
                "            v.JOB,\r\n",
                "            v.MGR,\r\n",
                "            v.HIREDATE,\r\n",
                "            v.SAL,\r\n",
                "            v.COMM,\r\n",
                "            v.DEPTNO\r\n",
                "    ) as v\r\n",
                "    where \r\n",
                "        v.EMPNO = e.EMPNO\r\n",
                "        and v.ENAME = e.ENAME\r\n",
                "        and v.JOB = e.JOB\r\n",
                "        and coalesce(v.MGR,0) = coalesce(e.MGR, 0)\r\n",
                "        and v.HIREDATE = e.HIREDATE\r\n",
                "        and v.SAL = e.SAL\r\n",
                "        and coalesce(v.COMM,0) = coalesce(e.COMM, 0)\r\n",
                "        and v.DEPTNO = e.DEPTNO    \r\n",
                "        and v.[count] = e.[count]    \r\n",
                ")\r\n",
                "union all\r\n",
                "select \r\n",
                "    *\r\n",
                "from \r\n",
                "(\r\n",
                "    select \r\n",
                "        v.EMPNO,\r\n",
                "        v.ENAME,\r\n",
                "        v.JOB,\r\n",
                "        v.MGR,\r\n",
                "        v.HIREDATE,\r\n",
                "        v.SAL,\r\n",
                "        v.COMM,\r\n",
                "        v.DEPTNO,\r\n",
                "        count(*) as count \r\n",
                "    from \r\n",
                "        dbo.V as v \r\n",
                "    group by \r\n",
                "        v.EMPNO,\r\n",
                "        v.ENAME,\r\n",
                "        v.JOB,\r\n",
                "        v.MGR,\r\n",
                "        v.HIREDATE,\r\n",
                "        v.SAL,\r\n",
                "        v.COMM,\r\n",
                "        v.DEPTNO\r\n",
                ") as v \r\n",
                "where not exists -- compare view v with view e\r\n",
                "(\r\n",
                "    select \r\n",
                "        null\r\n",
                "    from\r\n",
                "    (\r\n",
                "        select \r\n",
                "            e.EMPNO,\r\n",
                "            e.ENAME,\r\n",
                "            e.JOB,\r\n",
                "            e.MGR,\r\n",
                "            e.HIREDATE,\r\n",
                "            e.SAL,\r\n",
                "            e.COMM,\r\n",
                "            e.DEPTNO,\r\n",
                "            count(*) as count \r\n",
                "        from \r\n",
                "            dbo.EMP as e \r\n",
                "        group by \r\n",
                "            e.EMPNO,\r\n",
                "            e.ENAME,\r\n",
                "            e.JOB,\r\n",
                "            e.MGR,\r\n",
                "            e.HIREDATE,\r\n",
                "            e.SAL,\r\n",
                "            e.COMM,\r\n",
                "            e.DEPTNO\r\n",
                "    ) as e\r\n",
                "    where \r\n",
                "        v.EMPNO = e.EMPNO\r\n",
                "        and v.ENAME = e.ENAME\r\n",
                "        and v.JOB = e.JOB\r\n",
                "        and coalesce(v.MGR,0) = coalesce(e.MGR, 0)\r\n",
                "        and v.HIREDATE = e.HIREDATE\r\n",
                "        and v.SAL = e.SAL\r\n",
                "        and coalesce(v.COMM,0) = coalesce(e.COMM, 0)\r\n",
                "        and v.DEPTNO = e.DEPTNO   \r\n",
                "        and v.[count] = e.[count]\r\n",
                ")\r\n",
                "\r\n",
                "-- alternative solution using except \r\n",
                "(\r\n",
                "    select \r\n",
                "        v.EMPNO,\r\n",
                "        v.ENAME,\r\n",
                "        v.JOB,\r\n",
                "        v.MGR,\r\n",
                "        v.HIREDATE,\r\n",
                "        v.SAL,\r\n",
                "        v.COMM,\r\n",
                "        v.DEPTNO,\r\n",
                "        count(*) as count \r\n",
                "    from \r\n",
                "        dbo.V as v \r\n",
                "    group by \r\n",
                "        v.EMPNO,\r\n",
                "        v.ENAME,\r\n",
                "        v.JOB,\r\n",
                "        v.MGR,\r\n",
                "        v.HIREDATE,\r\n",
                "        v.SAL,\r\n",
                "        v.COMM,\r\n",
                "        v.DEPTNO\r\n",
                "    except\r\n",
                "    select \r\n",
                "        e.EMPNO,\r\n",
                "        e.ENAME,\r\n",
                "        e.JOB,\r\n",
                "        e.MGR,\r\n",
                "        e.HIREDATE,\r\n",
                "        e.SAL,\r\n",
                "        e.COMM,\r\n",
                "        e.DEPTNO,\r\n",
                "        count(*) as count \r\n",
                "    from \r\n",
                "        dbo.EMP as e \r\n",
                "    group by \r\n",
                "        e.EMPNO,\r\n",
                "        e.ENAME,\r\n",
                "        e.JOB,\r\n",
                "        e.MGR,\r\n",
                "        e.HIREDATE,\r\n",
                "        e.SAL,\r\n",
                "        e.COMM,\r\n",
                "        e.DEPTNO\r\n",
                ")\r\n",
                "union all \r\n",
                "(\r\n",
                "    select \r\n",
                "        e.EMPNO,\r\n",
                "        e.ENAME,\r\n",
                "        e.JOB,\r\n",
                "        e.MGR,\r\n",
                "        e.HIREDATE,\r\n",
                "        e.SAL,\r\n",
                "        e.COMM,\r\n",
                "        e.DEPTNO,\r\n",
                "        count(*) as count \r\n",
                "    from \r\n",
                "        dbo.EMP as e \r\n",
                "    group by \r\n",
                "        e.EMPNO,\r\n",
                "        e.ENAME,\r\n",
                "        e.JOB,\r\n",
                "        e.MGR,\r\n",
                "        e.HIREDATE,\r\n",
                "        e.SAL,\r\n",
                "        e.COMM,\r\n",
                "        e.DEPTNO\r\n",
                "    except\r\n",
                "    select \r\n",
                "        v.EMPNO,\r\n",
                "        v.ENAME,\r\n",
                "        v.JOB,\r\n",
                "        v.MGR,\r\n",
                "        v.HIREDATE,\r\n",
                "        v.SAL,\r\n",
                "        v.COMM,\r\n",
                "        v.DEPTNO,\r\n",
                "        count(*) as count \r\n",
                "    from \r\n",
                "        dbo.V as v \r\n",
                "    group by \r\n",
                "        v.EMPNO,\r\n",
                "        v.ENAME,\r\n",
                "        v.JOB,\r\n",
                "        v.MGR,\r\n",
                "        v.HIREDATE,\r\n",
                "        v.SAL,\r\n",
                "        v.COMM,\r\n",
                "        v.DEPTNO\r\n",
                ")"
            ],
            "metadata": {
                "language": "sql",
                "azdata_cell_guid": "b126dbe6-2bbb-4b03-a9f0-f2516cd47927",
                "tags": []
            },
            "outputs": [],
            "execution_count": null
        },
        {
            "cell_type": "markdown",
            "source": [
                "3.8 Identifying and Avoiding Cartersian Products"
            ],
            "metadata": {
                "language": "sql",
                "azdata_cell_guid": "1fa48b80-cc95-4e04-bb21-e63f07e81ef7"
            },
            "attachments": {}
        },
        {
            "cell_type": "code",
            "source": [
                "-- Cartersian Product query exemple \r\n",
                "select \r\n",
                "    e.ENAME,\r\n",
                "    d.LOC\r\n",
                "from \r\n",
                "    dbo.EMP as e,\r\n",
                "    dbo.DEPT as d\r\n",
                "where \r\n",
                "    e.DEPTNO = 10\r\n",
                "\r\n",
                "-- solution \r\n",
                "select \r\n",
                "    e.ENAME,\r\n",
                "    d.LOC\r\n",
                "from \r\n",
                "    dbo.EMP as e,\r\n",
                "    dbo.DEPT as d\r\n",
                "where \r\n",
                "    e.DEPTNO = 10\r\n",
                "    and e.DEPTNO = d.DEPTNO\r\n",
                "    "
            ],
            "metadata": {
                "language": "sql",
                "azdata_cell_guid": "7d923d96-4995-424d-8219-4ba196438844",
                "tags": []
            },
            "outputs": [],
            "execution_count": null
        },
        {
            "cell_type": "markdown",
            "source": [
                "3.9 Perfoming Joins When Using Aggregates"
            ],
            "metadata": {
                "language": "sql",
                "azdata_cell_guid": "bdaf820b-efbf-41b7-a872-1ff12f834584"
            },
            "attachments": {}
        },
        {
            "cell_type": "code",
            "source": [
                "drop table dbo.EMP_BONUS;\r\n",
                "\r\n",
                "CREATE TABLE EMP_BONUS\r\n",
                "(\r\n",
                "    EMPNO int NOT NULL,\r\n",
                "    RECEIVED DATETIME,\r\n",
                "    [TYPE] int \r\n",
                ");\r\n",
                "\r\n",
                "INSERT INTO EMP_BONUS VALUES\r\n",
                "    (7934, '17-MAR-2005', 1),\r\n",
                "    (7934, '15-FEB-2005', 2),\r\n",
                "    (7839, '15-FEB-2005', 3),\r\n",
                "    (7782, '15-FEB-2005', 1)"
            ],
            "metadata": {
                "language": "sql",
                "azdata_cell_guid": "875d72a6-d0bb-458d-a0e7-fcef307dce85",
                "tags": []
            },
            "outputs": [],
            "execution_count": null
        },
        {
            "cell_type": "code",
            "source": [
                "select * from dbo.EMP_BONUS \r\n",
                "\r\n",
                "select \r\n",
                "    e.EMPNO\r\n",
                "    ,e.ENAME\r\n",
                "    ,e.SAL\r\n",
                "    ,e.DEPTNO\r\n",
                "    ,e.SAL * case\r\n",
                "                when eb.[TYPE] = 1 then 0.1\r\n",
                "                when eb.[TYPE] = 2 then 0.2\r\n",
                "                else 0.3\r\n",
                "            end as bonus\r\n",
                "from \r\n",
                "    dbo.EMP e, \r\n",
                "    dbo.EMP_BONUS eb\r\n",
                "where \r\n",
                "    e.EMPNO = eb.EMPNO\r\n",
                "    and e.DEPTNO = 10\r\n",
                "\r\n",
                "\r\n",
                "select \r\n",
                "    distinct tv.deptno \r\n",
                "    ,sum(tv.total_sal) as total_sal \r\n",
                "    ,tv.total_bonus\r\n",
                "from \r\n",
                "(\r\n",
                "    select \r\n",
                "        distinct e.EMPNO\r\n",
                "        ,e.ENAME\r\n",
                "        ,sum(e.SAL) as total_sal\r\n",
                "        ,e.DEPTNO\r\n",
                "        ,sum(e.SAL * case\r\n",
                "                    when eb.[TYPE] = 1 then 0.1\r\n",
                "                    when eb.[TYPE] = 2 then 0.2\r\n",
                "                    else 0.3\r\n",
                "                end) over (partition by e.DEPTNO) as total_bonus\r\n",
                "    from \r\n",
                "        dbo.EMP e, \r\n",
                "        dbo.EMP_BONUS eb\r\n",
                "    where \r\n",
                "        e.EMPNO = eb.EMPNO\r\n",
                "        and e.DEPTNO = 10\r\n",
                "    group by \r\n",
                "        e.EMPNO\r\n",
                "        ,e.ENAME \r\n",
                "        ,e.DEPTNO\r\n",
                "        ,e.SAL\r\n",
                "        ,eb.[TYPE]\r\n",
                ") as tv\r\n",
                "group by \r\n",
                "    tv.DEPTNO\r\n",
                "    ,tv.total_bonus\r\n",
                "\r\n",
                "\r\n",
                "-- alternative solution without use over clause \r\n",
                "select \r\n",
                "    tv.DEPTNO\r\n",
                "    ,sum(tv.SAL) as total_sal\r\n",
                "    ,sum(tv.bonus) as total_bonus\r\n",
                "from \r\n",
                "(\r\n",
                "    select \r\n",
                "        e.EMPNO\r\n",
                "        ,e.ENAME\r\n",
                "        ,e.SAL \r\n",
                "        ,e.DEPTNO\r\n",
                "        ,sum(e.SAL * case\r\n",
                "                    when eb.[TYPE] = 1 then 0.1\r\n",
                "                    when eb.[TYPE] = 2 then 0.2\r\n",
                "                    else 0.3\r\n",
                "                end) as bonus\r\n",
                "    from \r\n",
                "        dbo.EMP e, \r\n",
                "        dbo.EMP_BONUS eb\r\n",
                "    where \r\n",
                "        e.EMPNO = eb.EMPNO\r\n",
                "        and e.DEPTNO = 10\r\n",
                "    group by \r\n",
                "        e.EMPNO\r\n",
                "        ,e.ENAME \r\n",
                "        ,e.SAL\r\n",
                "        ,e.DEPTNO\r\n",
                ") as tv\r\n",
                "group by\r\n",
                "    tv.DEPTNO"
            ],
            "metadata": {
                "language": "sql",
                "azdata_cell_guid": "ed958c56-5f6a-4e65-a5e1-cb12f865b559",
                "tags": []
            },
            "outputs": [],
            "execution_count": null
        },
        {
            "cell_type": "markdown",
            "source": [
                "3.10 Perfoming Outer Joins When Using Aggregates"
            ],
            "metadata": {
                "language": "sql",
                "azdata_cell_guid": "4f73b91c-d753-4f10-93b9-9903e1ee6f79"
            },
            "attachments": {}
        },
        {
            "cell_type": "code",
            "source": [
                "drop table dbo.EMP_BONUS;\r\n",
                "\r\n",
                "CREATE TABLE EMP_BONUS\r\n",
                "(\r\n",
                "    EMPNO int NOT NULL,\r\n",
                "    RECEIVED DATETIME,\r\n",
                "    [TYPE] int \r\n",
                ");\r\n",
                "\r\n",
                "INSERT INTO EMP_BONUS VALUES\r\n",
                "    (7934, '17-MAR-2005', 1),\r\n",
                "    (7934, '15-FEB-2005', 2)"
            ],
            "metadata": {
                "language": "sql",
                "azdata_cell_guid": "19491a74-c19b-42f9-9006-766a0f28908c",
                "tags": []
            },
            "outputs": [],
            "execution_count": null
        },
        {
            "cell_type": "code",
            "source": [
                "select * from dbo.EMP_BONUS\r\n",
                "\r\n",
                "select \r\n",
                "    tv.DEPTNO\r\n",
                "    ,sum(tv.SAL) as total_sal\r\n",
                "    ,sum(tv.bonus) as total_bonus\r\n",
                "from \r\n",
                "(\r\n",
                "    select \r\n",
                "        e.EMPNO\r\n",
                "        ,e.ENAME\r\n",
                "        ,e.SAL \r\n",
                "        ,e.DEPTNO\r\n",
                "        ,sum(e.SAL * case\r\n",
                "                    when eb.[TYPE] = 1 then 0.1\r\n",
                "                    when eb.[TYPE] = 2 then 0.2\r\n",
                "                    when eb.[TYPE] = 3 then 0.3\r\n",
                "                    else 0.0\r\n",
                "                end) as bonus\r\n",
                "    from \r\n",
                "        dbo.EMP e\r\n",
                "    left outer join \r\n",
                "        dbo.EMP_BONUS eb on e.EMPNO = eb.EMPNO\r\n",
                "    where \r\n",
                "        e.DEPTNO = 10\r\n",
                "    group by \r\n",
                "        e.EMPNO\r\n",
                "        ,e.ENAME \r\n",
                "        ,e.SAL\r\n",
                "        ,e.DEPTNO\r\n",
                ") as tv\r\n",
                "group by\r\n",
                "    tv.DEPTNO"
            ],
            "metadata": {
                "language": "sql",
                "azdata_cell_guid": "c710cebf-75a8-4513-8f49-1b8bc0f5e4e9",
                "tags": []
            },
            "outputs": [],
            "execution_count": null
        },
        {
            "cell_type": "markdown",
            "source": [
                "3.11 Returning Missing Data from Multiple Tables"
            ],
            "metadata": {
                "language": "sql",
                "azdata_cell_guid": "e4f906c7-78ca-441a-be39-6a015684a2c5"
            },
            "attachments": {}
        },
        {
            "cell_type": "code",
            "source": [
                "select \r\n",
                "    d.DEPTNO\r\n",
                "    ,d.DNAME\r\n",
                "    ,e.ENAME\r\n",
                "from \r\n",
                "    dbo.DEPT as d\r\n",
                "full outer join \r\n",
                "    dbo.EMP as e on d.DEPTNO = e.DEPTNO\r\n",
                "\r\n",
                "-- alternative solution using union and left/rigth join\r\n",
                "select \r\n",
                "    d.DEPTNO\r\n",
                "    ,d.DNAME\r\n",
                "    ,e.ENAME\r\n",
                "from \r\n",
                "    dbo.DEPT as d\r\n",
                "left outer join \r\n",
                "    dbo.EMP as e on d.DEPTNO = e.DEPTNO\r\n",
                "union \r\n",
                "select \r\n",
                "    d.DEPTNO\r\n",
                "    ,d.DNAME\r\n",
                "    ,e.ENAME\r\n",
                "from \r\n",
                "    dbo.DEPT as d\r\n",
                "right outer join \r\n",
                "    dbo.EMP as e on d.DEPTNO = e.DEPTNO\r\n",
                "\r\n",
                ""
            ],
            "metadata": {
                "language": "sql",
                "azdata_cell_guid": "6ede2a9b-81e7-4303-ba00-300f49af1473",
                "tags": []
            },
            "outputs": [],
            "execution_count": null
        },
        {
            "cell_type": "markdown",
            "source": [
                "3.12 Usin NULLs in Operations and Comparisons"
            ],
            "metadata": {
                "language": "sql",
                "azdata_cell_guid": "c7f39fc3-6ba7-422d-81d7-550fb20bc931"
            },
            "attachments": {}
        },
        {
            "cell_type": "code",
            "source": [
                "select \r\n",
                "    ename, comm\r\n",
                "from \r\n",
                "    dbo.EMP as e\r\n",
                "where coalesce(comm, 0) < (select comm from dbo.EMP where ename = 'WARD');\r\n",
                ""
            ],
            "metadata": {
                "language": "sql",
                "azdata_cell_guid": "8bc41103-47e2-44a8-80ab-20d39c45c35c",
                "tags": []
            },
            "outputs": [
                {
                    "output_type": "display_data",
                    "data": {
                        "text/html": "(13 rows affected)"
                    },
                    "metadata": {}
                },
                {
                    "output_type": "display_data",
                    "data": {
                        "text/html": "Total execution time: 00:00:00.011"
                    },
                    "metadata": {}
                },
                {
                    "output_type": "execute_result",
                    "execution_count": 10,
                    "data": {
                        "application/vnd.dataresource+json": {
                            "schema": {
                                "fields": [
                                    {
                                        "name": "ename"
                                    },
                                    {
                                        "name": "comm"
                                    }
                                ]
                            },
                            "data": [
                                {
                                    "ename": "SMITH",
                                    "comm": "NULL"
                                },
                                {
                                    "ename": "ALLEN",
                                    "comm": "300"
                                },
                                {
                                    "ename": "JONES",
                                    "comm": "NULL"
                                },
                                {
                                    "ename": "BLAKE",
                                    "comm": "NULL"
                                },
                                {
                                    "ename": "CLARK",
                                    "comm": "NULL"
                                },
                                {
                                    "ename": "SCOTT",
                                    "comm": "NULL"
                                },
                                {
                                    "ename": "KING",
                                    "comm": "NULL"
                                },
                                {
                                    "ename": "TURNER",
                                    "comm": "0"
                                },
                                {
                                    "ename": "ADAMS",
                                    "comm": "NULL"
                                },
                                {
                                    "ename": "JAMES",
                                    "comm": "NULL"
                                },
                                {
                                    "ename": "FORD",
                                    "comm": "NULL"
                                },
                                {
                                    "ename": "MILLER",
                                    "comm": "NULL"
                                },
                                {
                                    "ename": "YODA",
                                    "comm": "NULL"
                                }
                            ]
                        },
                        "text/html": "<table><tr><th>ename</th><th>comm</th></tr><tr><td>SMITH</td><td>NULL</td></tr><tr><td>ALLEN</td><td>300</td></tr><tr><td>JONES</td><td>NULL</td></tr><tr><td>BLAKE</td><td>NULL</td></tr><tr><td>CLARK</td><td>NULL</td></tr><tr><td>SCOTT</td><td>NULL</td></tr><tr><td>KING</td><td>NULL</td></tr><tr><td>TURNER</td><td>0</td></tr><tr><td>ADAMS</td><td>NULL</td></tr><tr><td>JAMES</td><td>NULL</td></tr><tr><td>FORD</td><td>NULL</td></tr><tr><td>MILLER</td><td>NULL</td></tr><tr><td>YODA</td><td>NULL</td></tr></table>"
                    },
                    "metadata": {}
                }
            ],
            "execution_count": 10
        }
    ]
}