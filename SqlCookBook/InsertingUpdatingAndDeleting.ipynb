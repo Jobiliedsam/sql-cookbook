{
    "metadata": {
        "kernelspec": {
            "name": "SQL",
            "display_name": "SQL",
            "language": "sql"
        },
        "language_info": {
            "name": "sql",
            "version": ""
        }
    },
    "nbformat_minor": 2,
    "nbformat": 4,
    "cells": [
        {
            "cell_type": "markdown",
            "source": [
                "4.1 Inserting a New Record"
            ],
            "metadata": {
                "azdata_cell_guid": "ad9b2151-923e-48ea-a1e5-d920cd2664c8"
            },
            "attachments": {}
        },
        {
            "cell_type": "code",
            "source": [
                "insert into \r\n",
                "    dbo.DEPT (DEPTNO, DNAME, LOC)\r\n",
                "    values (50, 'PROGRAMMING', 'BALTIMORE');\r\n",
                "\r\n",
                "select * from dbo.DEPT as d;"
            ],
            "metadata": {
                "azdata_cell_guid": "23701380-d6a1-4c05-b85e-96fbda0826de",
                "language": "sql",
                "tags": []
            },
            "outputs": [],
            "execution_count": null
        },
        {
            "cell_type": "markdown",
            "source": [
                "4.2 Inserting Default Values"
            ],
            "metadata": {
                "language": "sql",
                "azdata_cell_guid": "9fbc61bb-fa23-45ba-bcd9-abca541580bf"
            },
            "attachments": {}
        },
        {
            "cell_type": "code",
            "source": [
                "drop table dbo.D;\r\n",
                "\r\n",
                "create table D \r\n",
                "(\r\n",
                "    id integer default 0\r\n",
                ");\r\n",
                "\r\n",
                "insert into dbo.D (id) values (default);\r\n",
                "\r\n",
                "insert into dbo.D default values;\r\n",
                "\r\n",
                "select * from dbo.D"
            ],
            "metadata": {
                "language": "sql",
                "azdata_cell_guid": "58340b5c-4a44-4797-a3d9-cae016d5d8af",
                "tags": []
            },
            "outputs": [],
            "execution_count": null
        },
        {
            "cell_type": "markdown",
            "source": [
                "4.3 Overriding a Default Value with Null"
            ],
            "metadata": {
                "language": "sql",
                "azdata_cell_guid": "20c9ef9b-1e38-4ffa-b16a-6a73f160aa78"
            },
            "attachments": {}
        },
        {
            "cell_type": "code",
            "source": [
                "drop table dbo.D;\r\n",
                "\r\n",
                "create table D \r\n",
                "(\r\n",
                "    id integer default 0,\r\n",
                "    foo varchar(10)\r\n",
                ");\r\n",
                "\r\n",
                "insert into \r\n",
                "    dbo.D (id, foo)\r\n",
                "    values (null, 'Brighten');\r\n",
                "\r\n",
                "select * from dbo.D;"
            ],
            "metadata": {
                "language": "sql",
                "azdata_cell_guid": "b37b8412-0129-47a9-9437-cc18761de6c0",
                "tags": []
            },
            "outputs": [],
            "execution_count": null
        },
        {
            "cell_type": "markdown",
            "source": [
                "4.4 Copying Rows from One Table into Another"
            ],
            "metadata": {
                "azdata_cell_guid": "ac624e4c-e46d-4e9d-afa7-43568cac2613"
            },
            "attachments": {}
        },
        {
            "cell_type": "code",
            "source": [
                "drop table dbo.DEPT_EAST;\r\n",
                "\r\n",
                "create table DEPT_EAST\r\n",
                "(\r\n",
                "    deptno integer,\r\n",
                "    dname varchar(100), \r\n",
                "    loc varchar(100)\r\n",
                ");\r\n",
                "\r\n",
                "insert into \r\n",
                "    dbo.DEPT_EAST (deptno, dname, loc)\r\n",
                "    select \r\n",
                "        d.DEPTNO,\r\n",
                "        d.DNAME,\r\n",
                "        d.LOC\r\n",
                "    from \r\n",
                "        dbo.DEPT as d\r\n",
                "    where \r\n",
                "        d.LOC in ('NEW YORK', 'BOSTON');\r\n",
                "\r\n",
                "select * from dbo.DEPT_EAST;"
            ],
            "metadata": {
                "azdata_cell_guid": "90fc42ba-f9e4-41e8-8a0a-f2486530d0fa",
                "language": "sql",
                "tags": []
            },
            "outputs": [],
            "execution_count": null
        },
        {
            "cell_type": "markdown",
            "source": [
                "4.5 Copying a Table Definition"
            ],
            "metadata": {
                "language": "sql",
                "azdata_cell_guid": "998441b2-787d-47d0-87f3-0d6f55b0095b"
            },
            "attachments": {}
        },
        {
            "cell_type": "code",
            "source": [
                "drop table dbo.DEPT_WITHOUT_LINES;\r\n",
                "drop table dbo.DEPT_WITH_LINES;\r\n",
                "\r\n",
                "select \r\n",
                "    *\r\n",
                "into \r\n",
                "    DEPT_WITHOUT_LINES\r\n",
                "from \r\n",
                "    dbo.DEPT as d\r\n",
                "where 1 = 0; -- Expression 1 = 0 causes no rows to be returned\r\n",
                "\r\n",
                "select \r\n",
                "    *\r\n",
                "into \r\n",
                "    DEPT_WITH_LINES\r\n",
                "from \r\n",
                "    dbo.DEPT as d\r\n",
                "where 1 = 1;\r\n",
                "\r\n",
                "select * from dbo.DEPT_WITHOUT_LINES;\r\n",
                "select * from dbo.DEPT_WITH_LINES;\r\n",
                "\r\n",
                ""
            ],
            "metadata": {
                "language": "sql",
                "azdata_cell_guid": "62d752ba-02b0-437d-9ab7-50d0ffc4df19",
                "tags": []
            },
            "outputs": [],
            "execution_count": null
        },
        {
            "cell_type": "markdown",
            "source": [
                "4.6 Inserting into Multiple Tables at Once\n",
                "\n",
                "4.7 Blocking Inserts to Certain Columns"
            ],
            "metadata": {
                "language": "sql",
                "azdata_cell_guid": "6c0ad0ae-dd8a-4b82-960b-5349c1b508cd"
            },
            "attachments": {}
        },
        {
            "cell_type": "markdown",
            "source": [
                "4.8 Modifying Records in a Table"
            ],
            "metadata": {
                "language": "sql",
                "azdata_cell_guid": "aec9d80b-9106-4a39-878a-2023334597b1"
            },
            "attachments": {}
        },
        {
            "cell_type": "code",
            "source": [
                "drop table dbo.EMP_COPY;\r\n",
                "\r\n",
                "select \r\n",
                "    * \r\n",
                "into\r\n",
                "    EMP_COPY \r\n",
                "from \r\n",
                "    dbo.EMP as e\r\n",
                "where \r\n",
                "    1 = 1;\r\n",
                "\r\n",
                "-- solution\r\n",
                "update dbo.EMP_COPY\r\n",
                "    set sal = (sal * 1.10)\r\n",
                "where \r\n",
                "    DEPTNO = 20;\r\n",
                "\r\n",
                "select * from dbo.EMP_COPY;"
            ],
            "metadata": {
                "language": "sql",
                "azdata_cell_guid": "8f84a69b-8bfe-41c5-be93-b8eee950a05f",
                "tags": []
            },
            "outputs": [],
            "execution_count": null
        },
        {
            "cell_type": "markdown",
            "source": [
                "4.9 Updating When Corresponding Rows Exist"
            ],
            "metadata": {
                "language": "sql",
                "azdata_cell_guid": "4bfa5936-3411-4139-bd7d-93c6b1f25e2c"
            },
            "attachments": {}
        },
        {
            "cell_type": "code",
            "source": [
                "--setup \r\n",
                "drop table dbo.EMP_BONUS;\r\n",
                "drop table dbo.EMP_COPY;\r\n",
                "\r\n",
                "create table EMP_BONUS\r\n",
                "(\r\n",
                "    EMPNO int not null,\r\n",
                "    ENAME varchar(100)\r\n",
                ");\r\n",
                "\r\n",
                "insert into \r\n",
                "    dbo.EMP_BONUS (EMPNO, ENAME)\r\n",
                "values \r\n",
                "    (7369, 'SMITH'),\r\n",
                "    (7900, 'JAMES'),\r\n",
                "    (7934, 'MILLER');\r\n",
                "\r\n",
                "select \r\n",
                "    * \r\n",
                "into\r\n",
                "    EMP_COPY \r\n",
                "from \r\n",
                "    dbo.EMP as e\r\n",
                "where \r\n",
                "    1 = 1;\r\n",
                "\r\n",
                "select * from dbo.EMP_COPY\r\n",
                "\r\n",
                "-- solution\r\n",
                "update \r\n",
                "    dbo.EMP_COPY\r\n",
                "set \r\n",
                "    sal = (sal * 1.20)\r\n",
                "where \r\n",
                "    EMPNO in (select eb.EMPNO from dbo.EMP_BONUS as eb);\r\n",
                "\r\n",
                "select * from dbo.EMP_COPY;\r\n",
                "\r\n",
                "-- alternative solution using EXISTS clause\r\n",
                "update \r\n",
                "    dbo.EMP_COPY\r\n",
                "set \r\n",
                "    sal = (sal * 1.20)\r\n",
                "where \r\n",
                "    exists (select null from dbo.EMP_BONUS as eb where EMP_COPY.EMPNO = eb.EMPNO);\r\n",
                "\r\n",
                "select * from dbo.EMP_COPY;\r\n",
                "\r\n",
                ""
            ],
            "metadata": {
                "language": "sql",
                "azdata_cell_guid": "d41c0831-4789-4c58-8af9-86142e8ad775",
                "tags": []
            },
            "outputs": [],
            "execution_count": null
        },
        {
            "cell_type": "markdown",
            "source": [
                "4.10 Updating with Values from Another Table"
            ],
            "metadata": {
                "language": "sql",
                "azdata_cell_guid": "870c396e-05ad-478c-a986-abe2a2ed2317"
            },
            "attachments": {}
        },
        {
            "cell_type": "code",
            "source": [
                "-- setup\r\n",
                "drop table dbo.EMP_COPY;\r\n",
                "drop table dbo.NEW_SAL;\r\n",
                "\r\n",
                "create table NEW_SAL\r\n",
                "(\r\n",
                "    DEPTNO int not null,\r\n",
                "    SAL decimal \r\n",
                ");\r\n",
                "\r\n",
                "insert into \r\n",
                "    dbo.NEW_SAL (DEPTNO, SAL)\r\n",
                "values \r\n",
                "    (10, 4000);\r\n",
                "    \r\n",
                "select \r\n",
                "    * \r\n",
                "into\r\n",
                "    EMP_COPY \r\n",
                "from \r\n",
                "    dbo.EMP as e\r\n",
                "where \r\n",
                "    1 = 1;\r\n",
                "\r\n",
                "select * from dbo.EMP_COPY\r\n",
                "\r\n",
                "-- solution\r\n",
                "update \r\n",
                "    e\r\n",
                "set \r\n",
                "    e.SAL = ns.SAL,\r\n",
                "    e.COMM = ns.SAL / 2\r\n",
                "from \r\n",
                "    dbo.EMP_COPY as e\r\n",
                "inner join \r\n",
                "    dbo.NEW_SAL as ns on e.DEPTNO = ns.DEPTNO;\r\n",
                "\r\n",
                "select ec.DEPTNO, ec.ENAME, ec.SAL, ec.COMM from dbo.EMP_COPY as ec order by ec.DEPTNO"
            ],
            "metadata": {
                "language": "sql",
                "azdata_cell_guid": "844ddbdd-6fb6-430e-9d65-fb2850be4533",
                "tags": []
            },
            "outputs": [],
            "execution_count": null
        },
        {
            "cell_type": "markdown",
            "source": [
                "4.11 Merging Records"
            ],
            "metadata": {
                "language": "sql",
                "azdata_cell_guid": "2b0812c9-afb8-4ea9-8f18-c8f05a94d268"
            },
            "attachments": {}
        },
        {
            "cell_type": "code",
            "source": [
                "-- setup\r\n",
                "drop table dbo.EMP_COPY;\r\n",
                "drop table dbo.EMP_COMMISSION;\r\n",
                "\r\n",
                "create table EMP_COMMISSION\r\n",
                "(\r\n",
                "    DEPTNO integer,\r\n",
                "    EMPNO integer,\r\n",
                "    ENAME varchar(100),\r\n",
                "    COMM decimal \r\n",
                ");\r\n",
                "\r\n",
                "insert into \r\n",
                "    dbo.EMP_COMMISSION (DEPTNO, EMPNO, ENAME, COMM)\r\n",
                "values \r\n",
                "    (10, 7782, 'CLARK', null),\r\n",
                "    (10, 7839, 'KING', null),\r\n",
                "    (10, 7934, 'MILLER', null);\r\n",
                "    \r\n",
                "select \r\n",
                "    * \r\n",
                "into\r\n",
                "    EMP_COPY \r\n",
                "from \r\n",
                "    dbo.EMP as e\r\n",
                "where \r\n",
                "    1 = 1;\r\n",
                "\r\n",
                "select * from dbo.EMP_COPY\r\n",
                "\r\n",
                "\r\n",
                "-- solution\r\n",
                "merge into \r\n",
                "    dbo.EMP_COMMISSION as ec\r\n",
                "using \r\n",
                "    (select * from dbo.EMP_COPY) as emp on (ec.EMPNO = emp.EMPNO)\r\n",
                "when matched then \r\n",
                "    update set ec.comm = 1000\r\n",
                "when not matched and emp.SAL >= 2000 then \r\n",
                "    insert (EMPNO, ENAME, DEPTNO, COMM)\r\n",
                "    values(emp.EMPNO, emp.ENAME, emp.DEPTNO, emp.COMM);\r\n",
                "\r\n",
                "select * from dbo.EMP_COMMISSION;"
            ],
            "metadata": {
                "language": "sql",
                "azdata_cell_guid": "8236b25e-c00a-47e7-a6d8-5d8729849472",
                "tags": []
            },
            "outputs": [],
            "execution_count": null
        },
        {
            "cell_type": "markdown",
            "source": [
                "4.12 Deleting All Records from a Table"
            ],
            "metadata": {
                "language": "sql",
                "azdata_cell_guid": "238d9aab-ce97-422c-9814-3e5cb5b46f0c"
            },
            "attachments": {}
        },
        {
            "cell_type": "code",
            "source": [
                "-- setup\r\n",
                "drop table dbo.EMP_COPY;\r\n",
                "    \r\n",
                "select \r\n",
                "    * \r\n",
                "into\r\n",
                "    EMP_COPY \r\n",
                "from \r\n",
                "    dbo.EMP as e\r\n",
                "where \r\n",
                "    1 = 1;\r\n",
                "\r\n",
                "-- solution\r\n",
                "delete from dbo.EMP_COPY;\r\n",
                "\r\n",
                "select * from dbo.EMP_COPY;"
            ],
            "metadata": {
                "language": "sql",
                "azdata_cell_guid": "ba35185e-e27f-4ee3-b71a-4a6f7be908c1",
                "tags": []
            },
            "outputs": [],
            "execution_count": null
        },
        {
            "cell_type": "markdown",
            "source": [
                "4.13 Deleting Specific Records"
            ],
            "metadata": {
                "language": "sql",
                "azdata_cell_guid": "73299b53-741b-4175-9cf3-3f60fd75ad21"
            },
            "attachments": {}
        },
        {
            "cell_type": "code",
            "source": [
                "-- setup\r\n",
                "drop table dbo.EMP_COPY;\r\n",
                "    \r\n",
                "select \r\n",
                "    * \r\n",
                "into\r\n",
                "    EMP_COPY \r\n",
                "from \r\n",
                "    dbo.EMP as e\r\n",
                "where \r\n",
                "    1 = 1;\r\n",
                "\r\n",
                "-- solution\r\n",
                "delete from \r\n",
                "    dbo.EMP_COPY\r\n",
                "where \r\n",
                "    DEPTNO = 10;\r\n",
                "\r\n",
                "select * from dbo.EMP_COPY;"
            ],
            "metadata": {
                "language": "sql",
                "azdata_cell_guid": "30263aba-1e44-4664-8d29-6d9eba629e50",
                "tags": []
            },
            "outputs": [],
            "execution_count": null
        },
        {
            "cell_type": "markdown",
            "source": [
                "4.14 Deleting a Single Record"
            ],
            "metadata": {
                "language": "sql",
                "azdata_cell_guid": "22d5dffb-7741-47d3-a2ef-65acab2eee1e"
            },
            "attachments": {}
        },
        {
            "cell_type": "code",
            "source": [
                "-- setup\r\n",
                "drop table dbo.EMP_COPY;\r\n",
                "    \r\n",
                "select \r\n",
                "    * \r\n",
                "into\r\n",
                "    EMP_COPY \r\n",
                "from \r\n",
                "    dbo.EMP as e\r\n",
                "where \r\n",
                "    1 = 1;\r\n",
                "\r\n",
                "-- solution\r\n",
                "delete from \r\n",
                "    dbo.EMP_COPY\r\n",
                "where \r\n",
                "    EMPNO = 7782;\r\n",
                "\r\n",
                "select * from dbo.EMP_COPY;"
            ],
            "metadata": {
                "language": "sql",
                "azdata_cell_guid": "2e5375bd-c599-4d17-9fe1-91ac42dda6d4",
                "tags": []
            },
            "outputs": [],
            "execution_count": null
        },
        {
            "cell_type": "markdown",
            "source": [
                "4.15 Deleting Referential Integrity Violations"
            ],
            "metadata": {
                "language": "sql",
                "azdata_cell_guid": "bf50098d-fe76-4197-9da4-79559b27724b"
            },
            "attachments": {}
        },
        {
            "cell_type": "code",
            "source": [
                "-- setup\r\n",
                "drop table dbo.EMP_COPY;\r\n",
                "    \r\n",
                "select \r\n",
                "    * \r\n",
                "into\r\n",
                "    EMP_COPY \r\n",
                "from \r\n",
                "    dbo.EMP as e\r\n",
                "where \r\n",
                "    1 = 1;\r\n",
                "\r\n",
                "-- solution\r\n",
                "delete from \r\n",
                "    dbo.EMP_COPY\r\n",
                "where \r\n",
                "    not exists \r\n",
                "    (\r\n",
                "        select null from dbo.DEPT as d where d.DEPTNO = EMP_COPY.DEPTNO\r\n",
                "    );\r\n",
                "\r\n",
                "select * from dbo.EMP_COPY;"
            ],
            "metadata": {
                "language": "sql",
                "azdata_cell_guid": "d74e674e-f0a9-4412-9c41-9279e2e6eb3a",
                "tags": []
            },
            "outputs": [],
            "execution_count": null
        },
        {
            "cell_type": "markdown",
            "source": [
                "4.16 Deleting Duplicate Records"
            ],
            "metadata": {
                "language": "sql",
                "azdata_cell_guid": "ea8b6cc2-1e35-485c-bc7e-c4226fc1a559"
            },
            "attachments": {}
        },
        {
            "cell_type": "code",
            "source": [
                "-- setup\r\n",
                "drop table dbo.DUPES;\r\n",
                "\r\n",
                "create table DUPES\r\n",
                "(\r\n",
                "    id integer,\r\n",
                "    [name] varchar(30)\r\n",
                ");\r\n",
                "\r\n",
                "insert into \r\n",
                "    dbo.DUPES\r\n",
                "values \r\n",
                "    (1, 'NAPOLEON'),\r\n",
                "    (2, 'DYNAMITE'),\r\n",
                "    (3, 'DYNAMITE'),\r\n",
                "    (4, 'SHE SELLS'),\r\n",
                "    (5, 'SEA SHELLS'),\r\n",
                "    (6, 'SEA SHELLS'),\r\n",
                "    (7, 'SEA SHELLS')\r\n",
                "\r\n",
                "-- solution\r\n",
                "delete from \r\n",
                "    dbo.DUPES\r\n",
                "where \r\n",
                "    id not in ( select min(d.id) from dbo.DUPES as d group by d.name);\r\n",
                "\r\n",
                "select * from dbo.DUPES;"
            ],
            "metadata": {
                "language": "sql",
                "azdata_cell_guid": "3970307b-1ba2-4d63-a2be-056bfba50741",
                "tags": []
            },
            "outputs": [
                {
                    "output_type": "display_data",
                    "data": {
                        "text/html": "(16 rows affected)"
                    },
                    "metadata": {}
                },
                {
                    "output_type": "display_data",
                    "data": {
                        "text/html": "(7 rows affected)"
                    },
                    "metadata": {}
                },
                {
                    "output_type": "display_data",
                    "data": {
                        "text/html": "(3 rows affected)"
                    },
                    "metadata": {}
                },
                {
                    "output_type": "display_data",
                    "data": {
                        "text/html": "(4 rows affected)"
                    },
                    "metadata": {}
                },
                {
                    "output_type": "display_data",
                    "data": {
                        "text/html": "Total execution time: 00:00:00.122"
                    },
                    "metadata": {}
                },
                {
                    "output_type": "execute_result",
                    "execution_count": 95,
                    "data": {
                        "application/vnd.dataresource+json": {
                            "schema": {
                                "fields": [
                                    {
                                        "name": "id"
                                    },
                                    {
                                        "name": "name"
                                    }
                                ]
                            },
                            "data": [
                                {
                                    "id": "1",
                                    "name": "NAPOLEON"
                                },
                                {
                                    "id": "2",
                                    "name": "DYNAMITE"
                                },
                                {
                                    "id": "4",
                                    "name": "SHE SELLS"
                                },
                                {
                                    "id": "5",
                                    "name": "SEA SHELLS"
                                }
                            ]
                        },
                        "text/html": "<table><tr><th>id</th><th>name</th></tr><tr><td>1</td><td>NAPOLEON</td></tr><tr><td>2</td><td>DYNAMITE</td></tr><tr><td>4</td><td>SHE SELLS</td></tr><tr><td>5</td><td>SEA SHELLS</td></tr></table>"
                    },
                    "metadata": {}
                }
            ],
            "execution_count": 95
        },
        {
            "cell_type": "markdown",
            "source": [
                "4.17 Deleting Records Referenced from Another Table"
            ],
            "metadata": {
                "language": "sql",
                "azdata_cell_guid": "9279381a-8dd9-4e58-8c60-32c38abdd129"
            },
            "attachments": {}
        },
        {
            "cell_type": "code",
            "source": [
                "-- setup\r\n",
                "drop table dbo.DEPT_ACCIDENTS;\r\n",
                "drop table dbo.EMP_COPY;\r\n",
                "\r\n",
                "create table DEPT_ACCIDENTS\r\n",
                "(\r\n",
                "    DEPTNO integer,\r\n",
                "    ACCIDENT_NAME varchar(30)\r\n",
                ");\r\n",
                "\r\n",
                "insert into \r\n",
                "    dbo.DEPT_ACCIDENTS\r\n",
                "values \r\n",
                "    (10, 'BROKEN FOOT'),\r\n",
                "    (10, 'FLESH WOUND'),\r\n",
                "    (20, 'FIRE'),\r\n",
                "    (20, 'FIRE'),\r\n",
                "    (20, 'FLOOD'),\r\n",
                "    (30, 'BRUISED GLUTE');\r\n",
                "\r\n",
                "select * from dbo.DEPT_ACCIDENTS;\r\n",
                "\r\n",
                "select \r\n",
                "    * \r\n",
                "into\r\n",
                "    EMP_COPY \r\n",
                "from \r\n",
                "    dbo.EMP as e\r\n",
                "where \r\n",
                "    1 = 1;\r\n",
                "\r\n",
                "-- solution \r\n",
                "delete from \r\n",
                "    dbo.EMP_COPY\r\n",
                "where \r\n",
                "    DEPTNO in (select da.DEPTNO from dbo.DEPT_ACCIDENTS as da group by da.DEPTNO having count(da.DEPTNO) >= 3);"
            ],
            "metadata": {
                "language": "sql",
                "azdata_cell_guid": "d5112148-42ab-472c-bce5-b0415c07d787"
            },
            "outputs": [
                {
                    "output_type": "display_data",
                    "data": {
                        "text/html": "(6 rows affected)"
                    },
                    "metadata": {}
                },
                {
                    "output_type": "display_data",
                    "data": {
                        "text/html": "(6 rows affected)"
                    },
                    "metadata": {}
                },
                {
                    "output_type": "display_data",
                    "data": {
                        "text/html": "(16 rows affected)"
                    },
                    "metadata": {}
                },
                {
                    "output_type": "display_data",
                    "data": {
                        "text/html": "(5 rows affected)"
                    },
                    "metadata": {}
                },
                {
                    "output_type": "display_data",
                    "data": {
                        "text/html": "Total execution time: 00:00:00.204"
                    },
                    "metadata": {}
                },
                {
                    "output_type": "execute_result",
                    "execution_count": 98,
                    "data": {
                        "application/vnd.dataresource+json": {
                            "schema": {
                                "fields": [
                                    {
                                        "name": "DEPTNO"
                                    },
                                    {
                                        "name": "ACCIDENT_NAME"
                                    }
                                ]
                            },
                            "data": [
                                {
                                    "DEPTNO": "10",
                                    "ACCIDENT_NAME": "BROKEN FOOT"
                                },
                                {
                                    "DEPTNO": "10",
                                    "ACCIDENT_NAME": "FLESH WOUND"
                                },
                                {
                                    "DEPTNO": "20",
                                    "ACCIDENT_NAME": "FIRE"
                                },
                                {
                                    "DEPTNO": "20",
                                    "ACCIDENT_NAME": "FIRE"
                                },
                                {
                                    "DEPTNO": "20",
                                    "ACCIDENT_NAME": "FLOOD"
                                },
                                {
                                    "DEPTNO": "30",
                                    "ACCIDENT_NAME": "BRUISED GLUTE"
                                }
                            ]
                        },
                        "text/html": "<table><tr><th>DEPTNO</th><th>ACCIDENT_NAME</th></tr><tr><td>10</td><td>BROKEN FOOT</td></tr><tr><td>10</td><td>FLESH WOUND</td></tr><tr><td>20</td><td>FIRE</td></tr><tr><td>20</td><td>FIRE</td></tr><tr><td>20</td><td>FLOOD</td></tr><tr><td>30</td><td>BRUISED GLUTE</td></tr></table>"
                    },
                    "metadata": {}
                }
            ],
            "execution_count": 98
        }
    ]
}